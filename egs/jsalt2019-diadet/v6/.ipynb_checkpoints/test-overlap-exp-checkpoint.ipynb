{
 "cells": [
  {
   "cell_type": "code",
   "execution_count": 1,
   "metadata": {},
   "outputs": [],
   "source": [
    "import pyannote.database as db"
   ]
  },
  {
   "cell_type": "code",
   "execution_count": 2,
   "metadata": {},
   "outputs": [],
   "source": [
    "from pyannote.database import get_protocol"
   ]
  },
  {
   "cell_type": "code",
   "execution_count": 4,
   "metadata": {},
   "outputs": [],
   "source": [
    "protocol = get_protocol('AMI.SpeakerDiarization.MixHeadset')"
   ]
  },
  {
   "cell_type": "code",
   "execution_count": 5,
   "metadata": {},
   "outputs": [
    {
     "name": "stdout",
     "output_type": "stream",
     "text": [
      "{'database': 'AMI', 'uri': 'EN2002a.Mix-Headset', 'annotation': <pyannote.core.annotation.Annotation object at 0x7f5c57893f60>, 'annotated': <Timeline(uri=EN2002a.Mix-Headset, segments=[<Segment(0, 2142.71)>])>}\n",
      "{'database': 'AMI', 'uri': 'EN2002b.Mix-Headset', 'annotation': <pyannote.core.annotation.Annotation object at 0x7f5c57893c88>, 'annotated': <Timeline(uri=EN2002b.Mix-Headset, segments=[<Segment(0, 1786.85)>])>}\n",
      "{'database': 'AMI', 'uri': 'EN2002c.Mix-Headset', 'annotation': <pyannote.core.annotation.Annotation object at 0x7f5c57893cc0>, 'annotated': <Timeline(uri=EN2002c.Mix-Headset, segments=[<Segment(0, 2972.26)>])>}\n",
      "{'database': 'AMI', 'uri': 'EN2002d.Mix-Headset', 'annotation': <pyannote.core.annotation.Annotation object at 0x7f5c57893eb8>, 'annotated': <Timeline(uri=EN2002d.Mix-Headset, segments=[<Segment(0, 2209.9)>])>}\n",
      "{'database': 'AMI', 'uri': 'ES2004a.Mix-Headset', 'annotation': <pyannote.core.annotation.Annotation object at 0x7f5c57893ba8>, 'annotated': <Timeline(uri=ES2004a.Mix-Headset, segments=[<Segment(0, 1049.35)>])>}\n",
      "{'database': 'AMI', 'uri': 'ES2004b.Mix-Headset', 'annotation': <pyannote.core.annotation.Annotation object at 0x7f5c86bb5e10>, 'annotated': <Timeline(uri=ES2004b.Mix-Headset, segments=[<Segment(0, 2345.49)>])>}\n",
      "{'database': 'AMI', 'uri': 'ES2004c.Mix-Headset', 'annotation': <pyannote.core.annotation.Annotation object at 0x7f5c57896630>, 'annotated': <Timeline(uri=ES2004c.Mix-Headset, segments=[<Segment(0, 2334.37)>])>}\n",
      "{'database': 'AMI', 'uri': 'ES2004d.Mix-Headset', 'annotation': <pyannote.core.annotation.Annotation object at 0x7f5c57896518>, 'annotated': <Timeline(uri=ES2004d.Mix-Headset, segments=[<Segment(0, 2222.29)>])>}\n",
      "{'database': 'AMI', 'uri': 'ES2014a.Mix-Headset', 'annotation': <pyannote.core.annotation.Annotation object at 0x7f5c578963c8>, 'annotated': <Timeline(uri=ES2014a.Mix-Headset, segments=[<Segment(0, 1149.01)>])>}\n",
      "{'database': 'AMI', 'uri': 'ES2014b.Mix-Headset', 'annotation': <pyannote.core.annotation.Annotation object at 0x7f5c57896390>, 'annotated': <Timeline(uri=ES2014b.Mix-Headset, segments=[<Segment(0, 2319.89)>])>}\n",
      "{'database': 'AMI', 'uri': 'ES2014c.Mix-Headset', 'annotation': <pyannote.core.annotation.Annotation object at 0x7f5c57896320>, 'annotated': <Timeline(uri=ES2014c.Mix-Headset, segments=[<Segment(0, 2273.53)>])>}\n",
      "{'database': 'AMI', 'uri': 'ES2014d.Mix-Headset', 'annotation': <pyannote.core.annotation.Annotation object at 0x7f5c578966d8>, 'annotated': <Timeline(uri=ES2014d.Mix-Headset, segments=[<Segment(0, 2911.36)>])>}\n",
      "{'database': 'AMI', 'uri': 'IS1009a.Mix-Headset', 'annotation': <pyannote.core.annotation.Annotation object at 0x7f5c578967b8>, 'annotated': <Timeline(uri=IS1009a.Mix-Headset, segments=[<Segment(0, 838.833)>])>}\n",
      "{'database': 'AMI', 'uri': 'IS1009b.Mix-Headset', 'annotation': <pyannote.core.annotation.Annotation object at 0x7f5c578968d0>, 'annotated': <Timeline(uri=IS1009b.Mix-Headset, segments=[<Segment(0, 2052.33)>])>}\n",
      "{'database': 'AMI', 'uri': 'IS1009c.Mix-Headset', 'annotation': <pyannote.core.annotation.Annotation object at 0x7f5c57896860>, 'annotated': <Timeline(uri=IS1009c.Mix-Headset, segments=[<Segment(0, 1820.83)>])>}\n",
      "{'database': 'AMI', 'uri': 'IS1009d.Mix-Headset', 'annotation': <pyannote.core.annotation.Annotation object at 0x7f5c57896ac8>, 'annotated': <Timeline(uri=IS1009d.Mix-Headset, segments=[<Segment(0, 1944.5)>])>}\n",
      "{'database': 'AMI', 'uri': 'TS3003a.Mix-Headset', 'annotation': <pyannote.core.annotation.Annotation object at 0x7f5c57896cc0>, 'annotated': <Timeline(uri=TS3003a.Mix-Headset, segments=[<Segment(0, 1505.64)>])>}\n",
      "{'database': 'AMI', 'uri': 'TS3003b.Mix-Headset', 'annotation': <pyannote.core.annotation.Annotation object at 0x7f5c57896ba8>, 'annotated': <Timeline(uri=TS3003b.Mix-Headset, segments=[<Segment(0, 2210.3)>])>}\n",
      "{'database': 'AMI', 'uri': 'TS3003c.Mix-Headset', 'annotation': <pyannote.core.annotation.Annotation object at 0x7f5c57896d30>, 'annotated': <Timeline(uri=TS3003c.Mix-Headset, segments=[<Segment(0, 2570)>])>}\n",
      "{'database': 'AMI', 'uri': 'TS3003d.Mix-Headset', 'annotation': <pyannote.core.annotation.Annotation object at 0x7f5c57896f98>, 'annotated': <Timeline(uri=TS3003d.Mix-Headset, segments=[<Segment(0, 2618.2)>])>}\n",
      "{'database': 'AMI', 'uri': 'TS3007a.Mix-Headset', 'annotation': <pyannote.core.annotation.Annotation object at 0x7f5c5747c0f0>, 'annotated': <Timeline(uri=TS3007a.Mix-Headset, segments=[<Segment(0, 1609.34)>])>}\n",
      "{'database': 'AMI', 'uri': 'TS3007b.Mix-Headset', 'annotation': <pyannote.core.annotation.Annotation object at 0x7f5c5747c208>, 'annotated': <Timeline(uri=TS3007b.Mix-Headset, segments=[<Segment(0, 3354.86)>])>}\n",
      "{'database': 'AMI', 'uri': 'TS3007c.Mix-Headset', 'annotation': <pyannote.core.annotation.Annotation object at 0x7f5c5747c320>, 'annotated': <Timeline(uri=TS3007c.Mix-Headset, segments=[<Segment(0, 2420)>])>}\n",
      "{'database': 'AMI', 'uri': 'TS3007d.Mix-Headset', 'annotation': <pyannote.core.annotation.Annotation object at 0x7f5c5747c438>, 'annotated': <Timeline(uri=TS3007d.Mix-Headset, segments=[<Segment(0, 2824.3)>])>}\n"
     ]
    }
   ],
   "source": [
    "for protocol in protocol.test():\n",
    "     ref\n",
    "    "
   ]
  },
  {
   "cell_type": "code",
   "execution_count": null,
   "metadata": {},
   "outputs": [],
   "source": []
  }
 ],
 "metadata": {
  "kernelspec": {
   "display_name": "Python 3",
   "language": "python",
   "name": "python3"
  },
  "language_info": {
   "codemirror_mode": {
    "name": "ipython",
    "version": 3
   },
   "file_extension": ".py",
   "mimetype": "text/x-python",
   "name": "python",
   "nbconvert_exporter": "python",
   "pygments_lexer": "ipython3",
   "version": "3.6.8"
  }
 },
 "nbformat": 4,
 "nbformat_minor": 4
}
